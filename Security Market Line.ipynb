{
 "cells": [
  {
   "cell_type": "markdown",
   "metadata": {},
   "source": [
    "***Color manual***\n",
    "\n",
    "<div class=\"alert alert-block alert-success\">\n",
    "<b>Green - Libraries</b>\n",
    "</div>\n",
    "\n",
    "<div class=\"alert alert-block alert-info\">\n",
    "<b>Blue - Information</b>\n",
    "</div>\n",
    "\n",
    "<div class=\"alert alert-block alert-danger\">\n",
    "<b>Red - Problems</b>\n",
    "</div>\n",
    "\n",
    "***"
   ]
  },
  {
   "cell_type": "markdown",
   "metadata": {},
   "source": [
    "<div class=\"alert alert-block alert-success\">\n",
    "<b>Import libraries</b>\n",
    "</div>"
   ]
  },
  {
   "cell_type": "code",
   "execution_count": 9,
   "metadata": {},
   "outputs": [],
   "source": [
    "import pandas as pd\n",
    "import seaborn as sns\n",
    "import statsmodels.api as sm\n",
    "import matplotlib.pyplot as plt\n",
    "\n",
    "from pandas_datareader import data\n",
    "\n",
    "%matplotlib inline\n",
    "sns.set_style('white')"
   ]
  },
  {
   "cell_type": "markdown",
   "metadata": {},
   "source": [
    "<div class=\"alert alert-block alert-info\">\n",
    "<b>Load the stocks historical data, transform in yearly data and get percentage return</b>\n",
    "</div>"
   ]
  },
  {
   "cell_type": "code",
   "execution_count": 2,
   "metadata": {},
   "outputs": [],
   "source": [
    "stock1 = data.DataReader('MSFT', 'yahoo', start = '2018/01/01', end = '2019/12/31')\n",
    "stock1 = stock1.resample('Y').last().dropna().pct_change().dropna()\n",
    "\n",
    "stock2 = data.DataReader('AAPL', 'yahoo', start = '2018/01/01', end = '2019/12/31')\n",
    "stock2 = stock2.resample('Y').last().dropna().pct_change().dropna()\n",
    "\n",
    "stock3 = data.DataReader('AMZN', 'yahoo', start = '2018/01/01', end = '2019/12/31')\n",
    "stock3 = stock3.resample('Y').last().dropna().pct_change().dropna()"
   ]
  },
  {
   "cell_type": "markdown",
   "metadata": {},
   "source": [
    "<div class=\"alert alert-block alert-info\">\n",
    "<b>Percentage return of the market index S&P 500 with GSPC</b>\n",
    "</div>"
   ]
  },
  {
   "cell_type": "code",
   "execution_count": 3,
   "metadata": {},
   "outputs": [
    {
     "data": {
      "text/html": [
       "<div>\n",
       "<style scoped>\n",
       "    .dataframe tbody tr th:only-of-type {\n",
       "        vertical-align: middle;\n",
       "    }\n",
       "\n",
       "    .dataframe tbody tr th {\n",
       "        vertical-align: top;\n",
       "    }\n",
       "\n",
       "    .dataframe thead th {\n",
       "        text-align: right;\n",
       "    }\n",
       "</style>\n",
       "<table border=\"1\" class=\"dataframe\">\n",
       "  <thead>\n",
       "    <tr style=\"text-align: right;\">\n",
       "      <th></th>\n",
       "      <th>High</th>\n",
       "      <th>Low</th>\n",
       "      <th>Open</th>\n",
       "      <th>Close</th>\n",
       "      <th>Volume</th>\n",
       "      <th>Adj Close</th>\n",
       "    </tr>\n",
       "    <tr>\n",
       "      <th>Date</th>\n",
       "      <th></th>\n",
       "      <th></th>\n",
       "      <th></th>\n",
       "      <th></th>\n",
       "      <th></th>\n",
       "      <th></th>\n",
       "    </tr>\n",
       "  </thead>\n",
       "  <tbody>\n",
       "    <tr>\n",
       "      <th>2019-12-31</th>\n",
       "      <td>0.287928</td>\n",
       "      <td>0.293702</td>\n",
       "      <td>0.286618</td>\n",
       "      <td>0.288781</td>\n",
       "      <td>-0.159477</td>\n",
       "      <td>0.288781</td>\n",
       "    </tr>\n",
       "  </tbody>\n",
       "</table>\n",
       "</div>"
      ],
      "text/plain": [
       "                High       Low      Open     Close    Volume  Adj Close\n",
       "Date                                                                   \n",
       "2019-12-31  0.287928  0.293702  0.286618  0.288781 -0.159477   0.288781"
      ]
     },
     "execution_count": 3,
     "metadata": {},
     "output_type": "execute_result"
    }
   ],
   "source": [
    "Rm = data.DataReader('^GSPC', 'yahoo', start = '2018/01/01', end = '2019/12/31')\n",
    "Rm = Rm.resample('Y').last().pct_change().dropna()\n",
    "Rm.head()"
   ]
  },
  {
   "cell_type": "markdown",
   "metadata": {},
   "source": [
    "<div class=\"alert alert-block alert-info\">\n",
    "<b>Percentage return of risk free investment with DGS10 = One Month Treasury Constant Maturity Rate</b>\n",
    "</div>"
   ]
  },
  {
   "cell_type": "code",
   "execution_count": 4,
   "metadata": {},
   "outputs": [
    {
     "data": {
      "text/html": [
       "<div>\n",
       "<style scoped>\n",
       "    .dataframe tbody tr th:only-of-type {\n",
       "        vertical-align: middle;\n",
       "    }\n",
       "\n",
       "    .dataframe tbody tr th {\n",
       "        vertical-align: top;\n",
       "    }\n",
       "\n",
       "    .dataframe thead th {\n",
       "        text-align: right;\n",
       "    }\n",
       "</style>\n",
       "<table border=\"1\" class=\"dataframe\">\n",
       "  <thead>\n",
       "    <tr style=\"text-align: right;\">\n",
       "      <th></th>\n",
       "      <th>DGS1MO</th>\n",
       "    </tr>\n",
       "    <tr>\n",
       "      <th>DATE</th>\n",
       "      <th></th>\n",
       "    </tr>\n",
       "  </thead>\n",
       "  <tbody>\n",
       "    <tr>\n",
       "      <th>2019-12-31</th>\n",
       "      <td>-0.003934</td>\n",
       "    </tr>\n",
       "  </tbody>\n",
       "</table>\n",
       "</div>"
      ],
      "text/plain": [
       "              DGS1MO\n",
       "DATE                \n",
       "2019-12-31 -0.003934"
      ]
     },
     "execution_count": 4,
     "metadata": {},
     "output_type": "execute_result"
    }
   ],
   "source": [
    "Rf = data.DataReader('DGS1MO', 'fred', start = '2018/01/01', end = '2019/12/31')\n",
    "Rf = Rf.resample('Y').last().pct_change().dropna()\n",
    "Rf = Rf/100\n",
    "Rf.head()"
   ]
  },
  {
   "cell_type": "markdown",
   "metadata": {},
   "source": [
    "<div class=\"alert alert-block alert-info\">\n",
    "<b>$\\beta$ from stocks and market</b>\n",
    "</div>"
   ]
  },
  {
   "cell_type": "code",
   "execution_count": 5,
   "metadata": {},
   "outputs": [],
   "source": [
    "market_beta = 1\n",
    "\n",
    "stock1_beta = 0.9960\n",
    "\n",
    "stock2_beta = 1.3522\n",
    "\n",
    "stock3_beta = 1.4519\n",
    "\n",
    "beta_list = [market_beta, stock1_beta, stock2_beta, stock3_beta]"
   ]
  },
  {
   "cell_type": "markdown",
   "metadata": {},
   "source": [
    "<div class=\"alert alert-block alert-info\">\n",
    "<b>CAPM % return from stocks and market</b>\n",
    "</div>"
   ]
  },
  {
   "cell_type": "code",
   "execution_count": 6,
   "metadata": {},
   "outputs": [],
   "source": [
    "market_capm = (Rm['Adj Close']*market_beta).dropna()\n",
    "\n",
    "stock1_capm = (Rf['DGS1MO'] + stock1_beta * (Rm['Adj Close'] - Rf['DGS1MO'])).dropna()\n",
    "\n",
    "stock2_capm = (Rf['DGS1MO'] + stock2_beta * (Rm['Adj Close'] - Rf['DGS1MO'])).dropna()\n",
    "\n",
    "stock3_capm = (Rf['DGS1MO'] + stock3_beta * (Rm['Adj Close'] - Rf['DGS1MO'])).dropna()\n",
    "\n",
    "capm_list = [market_capm, stock1_capm, stock2_capm, stock3_capm]"
   ]
  },
  {
   "cell_type": "markdown",
   "metadata": {},
   "source": [
    "<div class=\"alert alert-block alert-info\">\n",
    "<b>Expected return from stocks and market</b>\n",
    "</div>"
   ]
  },
  {
   "cell_type": "code",
   "execution_count": 7,
   "metadata": {},
   "outputs": [],
   "source": [
    "market_return = Rm['Adj Close']\n",
    "\n",
    "stock1_return = stock1['Adj Close']\n",
    "\n",
    "stock2_return = stock2['Adj Close']\n",
    "\n",
    "stock3_return = stock3['Adj Close']\n",
    "\n",
    "exp_returns = [market_return, stock1_return, stock2_return, stock3_return]"
   ]
  },
  {
   "cell_type": "markdown",
   "metadata": {},
   "source": [
    "<div class=\"alert alert-block alert-info\">\n",
    "<b>Security Market Line plot</b>\n",
    "</div>"
   ]
  },
  {
   "cell_type": "code",
   "execution_count": 8,
   "metadata": {},
   "outputs": [
    {
     "data": {
      "image/png": "[encoded data removed]",
      "text/plain": [
       "<Figure size 1440x720 with 1 Axes>"
      ]
     },
     "metadata": {},
     "output_type": "display_data"
    }
   ],
   "source": [
    "plt.figure(figsize = (20,10))\n",
    "plt.rc('font', weight = 'normal')\n",
    "plt.title('Security Market Line (2018 - 2019)', weight = 'bold', fontsize = 20, pad = 15)\n",
    "plt.xlabel(r'$\\beta$ (Risk)', weight = 'bold', fontsize = 20, labelpad = 15)\n",
    "plt.ylabel('Expected return', weight = 'bold', fontsize = 20,  labelpad = 15)\n",
    "plt.xticks(fontsize = 20)\n",
    "plt.yticks(fontsize = 20)\n",
    "plt.tick_params(axis = 'both', pad = 10, size = 10)                                                                              \n",
    "plt.rc('font', size = 15)\n",
    "plt.plot(beta_list, capm_list, label = 'Beta line', color = 'black', linewidth = 3)\n",
    "plt.scatter(stock1_beta, stock1['Adj Close'], label = 'MSFT', color = 'darkgreen', s = 200)\n",
    "plt.scatter(stock2_beta, stock2['Adj Close'], label = 'AAPL', color = 'darkred', s = 200)\n",
    "plt.scatter(stock3_beta, stock3['Adj Close'], label = 'AMZN', color = 'olive', s = 200)\n",
    "plt.scatter(market_beta, Rm['Adj Close'], label = 'Market',  color = 'darkblue', s = 200)\n",
    "plt.legend(loc = 'upper right', prop = {'size':20}, frameon = False)\n",
    "plt.tight_layout() \n",
    "plt.show()"
   ]
  }
 ],
 "metadata": {
  "kernelspec": {
   "display_name": "Python 3",
   "language": "python",
   "name": "python3"
  },
  "language_info": {
   "codemirror_mode": {
    "name": "ipython",
    "version": 3
   },
   "file_extension": ".py",
   "mimetype": "text/x-python",
   "name": "python",
   "nbconvert_exporter": "python",
   "pygments_lexer": "ipython3",
   "version": "3.7.7"
  }
 },
 "nbformat": 4,
 "nbformat_minor": 4
}
